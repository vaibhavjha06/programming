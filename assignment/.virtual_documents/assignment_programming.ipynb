











import numpy as np
import matplotlib.pyplot as plt

x = np.linspace(0, 1, 50)
y = np.log(x)
z = np.exp(x)

plt.scatter(x,y, label = 'Natural Log')
plt.scatter(x,z, label = 'Exponential')
plt.xlabel('input')
plt.ylabel('output')
plt.title('Logarithmic and exponential graphs')
plt.legend(loc = 'lower right')

plt.show()



x = np.linspace(-6.5, 6.5, 100)
y = np.sin(x)
z = np.cos(x)

#plt.scatter(x,y, label = 'Sine')
#plt.scatter(x,z, label = 'Cosine')
plt.plot(x,y, label = 'Sine')
plt.plot(x,z, label = 'Cosine')
plt.xlabel('input')
plt.ylabel('output')
plt.title('Sine and cosine graphs')
plt.legend(loc = 'lower left')





import numpy as np
import math as math
np.random.seed(100) # Set the seed for the random number generator
rho, sigma_x, sigma_y = -.4, 3, 2 # Variance-Covariance Parameters
vcv = np.array([[sigma_x**2, rho*sigma_x*sigma_y],
                [rho*sigma_x*sigma_y,sigma_y**2]]) # VCV Matrix
mu = np.array([-1,2]) # Population averages
sample = np.random.multivariate_normal(mu,vcv,200) # Multivariate normal draws
x = sample[:,0]
y = sample[:,1]

#############################################################################


def mean(x):
    mu = np.sum(x)/len(x)
    return(mu)

def sd(x):
    n = len(x)
    mu = mean(x)
    diffsquaredsum = np.sum((x-mu)/n)
    sd = np.sqrt(diffsquaredsum/(n-1))
    return(sd)

def stand(x):
    mu = mean(x)
    sd = sd(x)
    trans = ((x-mu)/sd)
    return(trans)

    






import numpy as np
import matplotlib.pyplot as plt







